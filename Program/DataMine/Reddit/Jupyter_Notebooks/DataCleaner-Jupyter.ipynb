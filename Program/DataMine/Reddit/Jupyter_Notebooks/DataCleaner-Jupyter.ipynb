{
 "cells": [
  {
   "cell_type": "code",
   "execution_count": 3,
   "metadata": {},
   "outputs": [
    {
     "name": "stdout",
     "output_type": "stream",
     "text": [
      "DataCleaner instantiated.\n",
      "Finished.\n",
      "\n"
     ]
    }
   ],
   "source": [
    "import DataObserver"
   ]
  },
  {
   "cell_type": "code",
   "execution_count": 5,
   "metadata": {},
   "outputs": [
    {
     "name": "stdout",
     "output_type": "stream",
     "text": [
      "DataCleaner instantiated.\n",
      "Finished.\n",
      "\n"
     ]
    }
   ],
   "source": [
    "df = DataCleaner.build_basic(return_df= True)"
   ]
  },
  {
   "cell_type": "code",
   "execution_count": 6,
   "metadata": {},
   "outputs": [
    {
     "data": {
      "text/html": [
       "<div>\n",
       "<style>\n",
       "    .dataframe thead tr:only-child th {\n",
       "        text-align: right;\n",
       "    }\n",
       "\n",
       "    .dataframe thead th {\n",
       "        text-align: left;\n",
       "    }\n",
       "\n",
       "    .dataframe tbody tr th {\n",
       "        vertical-align: top;\n",
       "    }\n",
       "</style>\n",
       "<table border=\"1\" class=\"dataframe\">\n",
       "  <thead>\n",
       "    <tr style=\"text-align: right;\">\n",
       "      <th></th>\n",
       "      <th>id</th>\n",
       "      <th>parent_id</th>\n",
       "      <th>subreddit_name_prefixed</th>\n",
       "      <th>body</th>\n",
       "      <th>ups</th>\n",
       "      <th>downs</th>\n",
       "      <th>score</th>\n",
       "      <th>controversiality</th>\n",
       "      <th>created</th>\n",
       "      <th>date_created</th>\n",
       "      <th>time_created</th>\n",
       "    </tr>\n",
       "  </thead>\n",
       "  <tbody>\n",
       "    <tr>\n",
       "      <th>0</th>\n",
       "      <td>csjf5ic</td>\n",
       "      <td>t3_3b6zln</td>\n",
       "      <td>r/news</td>\n",
       "      <td>One of the most interesting sentences to me, a...</td>\n",
       "      <td>629</td>\n",
       "      <td>0</td>\n",
       "      <td>629</td>\n",
       "      <td>0</td>\n",
       "      <td>1435357909</td>\n",
       "      <td>2015-06-26</td>\n",
       "      <td>10:31:49</td>\n",
       "    </tr>\n",
       "    <tr>\n",
       "      <th>1</th>\n",
       "      <td>csjfbg3</td>\n",
       "      <td>t3_3b6zln</td>\n",
       "      <td>r/news</td>\n",
       "      <td>Okay, so now that this is official, when can I...</td>\n",
       "      <td>3850</td>\n",
       "      <td>0</td>\n",
       "      <td>3850</td>\n",
       "      <td>0</td>\n",
       "      <td>1435358185</td>\n",
       "      <td>2015-06-26</td>\n",
       "      <td>10:36:25</td>\n",
       "    </tr>\n",
       "    <tr>\n",
       "      <th>2</th>\n",
       "      <td>csjfjsg</td>\n",
       "      <td>t3_3b6zln</td>\n",
       "      <td>r/news</td>\n",
       "      <td>And gays across the country who have been rely...</td>\n",
       "      <td>4153</td>\n",
       "      <td>0</td>\n",
       "      <td>4153</td>\n",
       "      <td>0</td>\n",
       "      <td>1435358565</td>\n",
       "      <td>2015-06-26</td>\n",
       "      <td>10:42:45</td>\n",
       "    </tr>\n",
       "    <tr>\n",
       "      <th>3</th>\n",
       "      <td>csjfvgc</td>\n",
       "      <td>t3_3b6zln</td>\n",
       "      <td>r/news</td>\n",
       "      <td>I've been using the whole \"I won't get married...</td>\n",
       "      <td>2996</td>\n",
       "      <td>0</td>\n",
       "      <td>2996</td>\n",
       "      <td>0</td>\n",
       "      <td>1435359091</td>\n",
       "      <td>2015-06-26</td>\n",
       "      <td>10:51:31</td>\n",
       "    </tr>\n",
       "    <tr>\n",
       "      <th>4</th>\n",
       "      <td>csjfeu0</td>\n",
       "      <td>t3_3b6zln</td>\n",
       "      <td>r/news</td>\n",
       "      <td>My first day in America backpacking and this h...</td>\n",
       "      <td>3434</td>\n",
       "      <td>0</td>\n",
       "      <td>3434</td>\n",
       "      <td>0</td>\n",
       "      <td>1435358339</td>\n",
       "      <td>2015-06-26</td>\n",
       "      <td>10:38:59</td>\n",
       "    </tr>\n",
       "  </tbody>\n",
       "</table>\n",
       "</div>"
      ],
      "text/plain": [
       "        id  parent_id subreddit_name_prefixed  \\\n",
       "0  csjf5ic  t3_3b6zln                  r/news   \n",
       "1  csjfbg3  t3_3b6zln                  r/news   \n",
       "2  csjfjsg  t3_3b6zln                  r/news   \n",
       "3  csjfvgc  t3_3b6zln                  r/news   \n",
       "4  csjfeu0  t3_3b6zln                  r/news   \n",
       "\n",
       "                                                body   ups  downs  score  \\\n",
       "0  One of the most interesting sentences to me, a...   629      0    629   \n",
       "1  Okay, so now that this is official, when can I...  3850      0   3850   \n",
       "2  And gays across the country who have been rely...  4153      0   4153   \n",
       "3  I've been using the whole \"I won't get married...  2996      0   2996   \n",
       "4  My first day in America backpacking and this h...  3434      0   3434   \n",
       "\n",
       "   controversiality     created date_created time_created  \n",
       "0                 0  1435357909   2015-06-26     10:31:49  \n",
       "1                 0  1435358185   2015-06-26     10:36:25  \n",
       "2                 0  1435358565   2015-06-26     10:42:45  \n",
       "3                 0  1435359091   2015-06-26     10:51:31  \n",
       "4                 0  1435358339   2015-06-26     10:38:59  "
      ]
     },
     "execution_count": 6,
     "metadata": {},
     "output_type": "execute_result"
    }
   ],
   "source": [
    "df.head()"
   ]
  },
  {
   "cell_type": "code",
   "execution_count": 81,
   "metadata": {},
   "outputs": [],
   "source": [
    "short_df = df[:1000].reset_index()"
   ]
  },
  {
   "cell_type": "code",
   "execution_count": 82,
   "metadata": {},
   "outputs": [
    {
     "data": {
      "text/plain": [
       "<matplotlib.figure.Figure at 0x1157f52e8>"
      ]
     },
     "metadata": {},
     "output_type": "display_data"
    }
   ],
   "source": [
    "import matplotlib.pyplot as plt\n",
    "%matplotlib inline\n",
    "plt.figure();"
   ]
  },
  {
   "cell_type": "code",
   "execution_count": 1,
   "metadata": {},
   "outputs": [
    {
     "ename": "NameError",
     "evalue": "name 'short_df' is not defined",
     "output_type": "error",
     "traceback": [
      "\u001b[0;31m---------------------------------------------------------------------------\u001b[0m",
      "\u001b[0;31mNameError\u001b[0m                                 Traceback (most recent call last)",
      "\u001b[0;32m<ipython-input-1-7e931d7e1234>\u001b[0m in \u001b[0;36m<module>\u001b[0;34m()\u001b[0m\n\u001b[1;32m      1\u001b[0m \u001b[0;31m#short_df.plot.hist(alpha=0.5)\u001b[0m\u001b[0;34m\u001b[0m\u001b[0;34m\u001b[0m\u001b[0m\n\u001b[0;32m----> 2\u001b[0;31m \u001b[0mplot\u001b[0m \u001b[0;34m=\u001b[0m \u001b[0mshort_df\u001b[0m\u001b[0;34m.\u001b[0m\u001b[0mplot\u001b[0m\u001b[0;34m(\u001b[0m\u001b[0mx\u001b[0m\u001b[0;34m=\u001b[0m\u001b[0;34m'index'\u001b[0m\u001b[0;34m,\u001b[0m \u001b[0my\u001b[0m\u001b[0;34m=\u001b[0m\u001b[0;34m'created'\u001b[0m\u001b[0;34m,\u001b[0m \u001b[0mfigsize\u001b[0m\u001b[0;34m=\u001b[0m\u001b[0;34m(\u001b[0m\u001b[0;36m20\u001b[0m\u001b[0;34m,\u001b[0m \u001b[0;36m8\u001b[0m\u001b[0;34m)\u001b[0m\u001b[0;34m)\u001b[0m\u001b[0;34m\u001b[0m\u001b[0m\n\u001b[0m",
      "\u001b[0;31mNameError\u001b[0m: name 'short_df' is not defined"
     ]
    }
   ],
   "source": [
    "#short_df.plot.hist(alpha=0.5)\n",
    "plot = short_df.plot(x='index', y='score', figsize=(20, 8))"
   ]
  },
  {
   "cell_type": "code",
   "execution_count": null,
   "metadata": {},
   "outputs": [],
   "source": []
  }
 ],
 "metadata": {
  "kernelspec": {
   "display_name": "Python 3",
   "language": "python",
   "name": "python3"
  },
  "language_info": {
   "codemirror_mode": {
    "name": "ipython",
    "version": 3
   },
   "file_extension": ".py",
   "mimetype": "text/x-python",
   "name": "python",
   "nbconvert_exporter": "python",
   "pygments_lexer": "ipython3",
   "version": "3.6.2"
  }
 },
 "nbformat": 4,
 "nbformat_minor": 1
}
